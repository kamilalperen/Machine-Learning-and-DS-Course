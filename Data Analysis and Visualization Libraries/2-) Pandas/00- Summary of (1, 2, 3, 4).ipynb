{
 "cells": [
  {
   "cell_type": "code",
   "execution_count": 1,
   "id": "83c9d6a7-28ad-4822-a438-bb34d692812d",
   "metadata": {},
   "outputs": [],
   "source": [
    "import numpy as np\n",
    "import pandas as pd"
   ]
  },
  {
   "cell_type": "code",
   "execution_count": 5,
   "id": "3db1c6ca-14bb-4657-ae4f-e3c941f9a41c",
   "metadata": {},
   "outputs": [],
   "source": [
    "myindex = ['USA', 'Canada', 'Mexico']"
   ]
  },
  {
   "cell_type": "code",
   "execution_count": 6,
   "id": "c1daa6f6-a8b8-4413-80d5-0d3d9ff29035",
   "metadata": {},
   "outputs": [],
   "source": [
    "mydata = [1776, 1867, 1821]"
   ]
  },
  {
   "cell_type": "code",
   "execution_count": 13,
   "id": "3122b7e5-46c9-46bb-a252-5adb9dccd534",
   "metadata": {},
   "outputs": [],
   "source": [
    "myser = pd.Series(data = mydata, index = myindex)\n",
    "# Dogru sirada yazilirsa sadece --> pd.Series(mydata, myindex)  --> data ve index sirasiyla dogru bir sekilde atanir."
   ]
  },
  {
   "cell_type": "code",
   "execution_count": 14,
   "id": "e098a725-8571-4122-8af4-352b59da3419",
   "metadata": {},
   "outputs": [
    {
     "data": {
      "text/plain": [
       "USA       1776\n",
       "Canada    1867\n",
       "Mexico    1821\n",
       "dtype: int64"
      ]
     },
     "execution_count": 14,
     "metadata": {},
     "output_type": "execute_result"
    }
   ],
   "source": [
    "myser"
   ]
  },
  {
   "cell_type": "code",
   "execution_count": 15,
   "id": "617426be-422f-4ed8-83b1-5dded2ddcec8",
   "metadata": {},
   "outputs": [
    {
     "data": {
      "text/plain": [
       "1776"
      ]
     },
     "execution_count": 15,
     "metadata": {},
     "output_type": "execute_result"
    }
   ],
   "source": [
    "myser['USA']"
   ]
  },
  {
   "cell_type": "code",
   "execution_count": 17,
   "id": "130af8ab-0277-4808-8fbf-99c4dec2ff0b",
   "metadata": {},
   "outputs": [
    {
     "name": "stderr",
     "output_type": "stream",
     "text": [
      "/var/folders/j4/nj07815j3q9_wz_8g3ghf5r40000gn/T/ipykernel_15545/2639858182.py:1: FutureWarning: Series.__getitem__ treating keys as positions is deprecated. In a future version, integer keys will always be treated as labels (consistent with DataFrame behavior). To access a value by position, use `ser.iloc[pos]`\n",
      "  myser[1]    # Bu sadece bir uyaridir. ileriki sürümlerde bu gösterimin degisecegini \"ser.iloc[pos]\" kullanilmasi gerektigi yaziyor.\n"
     ]
    },
    {
     "data": {
      "text/plain": [
       "1867"
      ]
     },
     "execution_count": 17,
     "metadata": {},
     "output_type": "execute_result"
    }
   ],
   "source": [
    "myser[1]    # Bu sadece bir uyaridir. ileriki sürümlerde bu gösterimin degisecegini \"ser.iloc[pos]\" kullanilmasi gerektigi yaziyor."
   ]
  },
  {
   "cell_type": "code",
   "execution_count": 19,
   "id": "aa34ade8-2e28-453f-965f-c54a76f00e15",
   "metadata": {},
   "outputs": [
    {
     "data": {
      "text/plain": [
       "Sam       5\n",
       "Frank    10\n",
       "Spike     7\n",
       "dtype: int64"
      ]
     },
     "execution_count": 19,
     "metadata": {},
     "output_type": "execute_result"
    }
   ],
   "source": [
    "ages = {'Sam' : 5, \n",
    "        'Frank' : 10,\n",
    "        'Spike' : 7}\n",
    "\n",
    "pd.Series(ages)\n",
    "\n",
    "# dict ler otomatik olarak pandas serilerine dönüstürülebilir. "
   ]
  },
  {
   "cell_type": "code",
   "execution_count": null,
   "id": "bc525799-2620-429e-acc4-3cbfabe9b247",
   "metadata": {},
   "outputs": [],
   "source": []
  }
 ],
 "metadata": {
  "kernelspec": {
   "display_name": "Python 3 (ipykernel)",
   "language": "python",
   "name": "python3"
  },
  "language_info": {
   "codemirror_mode": {
    "name": "ipython",
    "version": 3
   },
   "file_extension": ".py",
   "mimetype": "text/x-python",
   "name": "python",
   "nbconvert_exporter": "python",
   "pygments_lexer": "ipython3",
   "version": "3.11.7"
  }
 },
 "nbformat": 4,
 "nbformat_minor": 5
}
