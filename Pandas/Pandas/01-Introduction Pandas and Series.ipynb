{
 "cells": [
  {
   "cell_type": "code",
   "execution_count": 3,
   "id": "52166051-be29-478f-95f3-ccb0df382923",
   "metadata": {},
   "outputs": [],
   "source": [
    "# Introduction to Pandas:\n",
    "\n",
    "# What does Pandas Library do?\n",
    "\n",
    "# - Cleaning and Organize data\n",
    "# - Exploratory Data Analysis\n",
    "# - Opensource \n",
    "# - Extremely powerful table (DataFrame) system built off of Numpy\n",
    "# - Tools for reading and writing data between many formats\n",
    "# - Intelligently grab data based on indexing, logic, subsetting and more\n",
    "# - Handle missing data\n",
    "# - Adjust and restructure data \n",
    "\n",
    "# Pandas - Section Overview :\n",
    "\n",
    "# Series and DataFrames\n",
    "# Conditional Filtering and Useful Methods\n",
    "# Missing Data \n",
    "# Group By Operations \n",
    "# Combining DataFrames\n",
    "# Text Methods and Time Methods \n",
    "# Inputs and Outputs"
   ]
  },
  {
   "cell_type": "code",
   "execution_count": 4,
   "id": "c4852878-ef1d-418e-b3ac-9a9b28c8b541",
   "metadata": {},
   "outputs": [],
   "source": [
    "# Series :"
   ]
  },
  {
   "cell_type": "code",
   "execution_count": 7,
   "id": "23061acf-7ce9-481e-910f-35b685618409",
   "metadata": {},
   "outputs": [],
   "source": [
    "# Pandas Series are based on the labeld index (maybe strings can be). This is the difference between Numpy arrays(Indexing: 0,1,2,3..)\n",
    "# and the data in Series can be also numeric index!"
   ]
  },
  {
   "cell_type": "code",
   "execution_count": 8,
   "id": "27eeba4e-5684-4e71-a6a4-e11e7064e66a",
   "metadata": {},
   "outputs": [],
   "source": [
    "import numpy as np"
   ]
  },
  {
   "cell_type": "code",
   "execution_count": 9,
   "id": "f4b1b988-e137-4acc-8305-b839baecb89d",
   "metadata": {},
   "outputs": [],
   "source": [
    "import pandas as pd"
   ]
  },
  {
   "cell_type": "code",
   "execution_count": 10,
   "id": "5f21974c-d9e9-4eac-84cb-010980b168bf",
   "metadata": {},
   "outputs": [],
   "source": [
    "# with help(pd.Series) can we see the methods."
   ]
  },
  {
   "cell_type": "code",
   "execution_count": 11,
   "id": "6713a3b5-19c3-4e51-aab4-997ab2f63f8c",
   "metadata": {},
   "outputs": [],
   "source": [
    "myindex = ['USA', 'Canada', 'Mexico']\n",
    "mydata = [1776, 1867, 1821]"
   ]
  },
  {
   "cell_type": "code",
   "execution_count": 18,
   "id": "25a3e5f1-1537-43f6-be1e-30f793921d39",
   "metadata": {},
   "outputs": [],
   "source": [
    "myser = pd.Series(data = mydata)"
   ]
  },
  {
   "cell_type": "code",
   "execution_count": 19,
   "id": "3732c252-3262-41d8-a160-d39ae82cfb3e",
   "metadata": {},
   "outputs": [
    {
     "name": "stdout",
     "output_type": "stream",
     "text": [
      "0    1776\n",
      "1    1867\n",
      "2    1821\n",
      "dtype: int64\n"
     ]
    }
   ],
   "source": [
    "print(myser)"
   ]
  },
  {
   "cell_type": "code",
   "execution_count": 20,
   "id": "f1f1a8ac-5195-45f3-93cf-71c148bfc2ac",
   "metadata": {},
   "outputs": [
    {
     "data": {
      "text/plain": [
       "pandas.core.series.Series"
      ]
     },
     "execution_count": 20,
     "metadata": {},
     "output_type": "execute_result"
    }
   ],
   "source": [
    "type(myser)"
   ]
  },
  {
   "cell_type": "code",
   "execution_count": 21,
   "id": "b9d821d1-034f-4f93-a979-b3298a60c054",
   "metadata": {},
   "outputs": [],
   "source": [
    "myser = pd.Series(data = mydata, index = myindex)"
   ]
  },
  {
   "cell_type": "code",
   "execution_count": 22,
   "id": "d25f7e9d-0fdb-4547-8a0f-18526b708348",
   "metadata": {},
   "outputs": [
    {
     "name": "stdout",
     "output_type": "stream",
     "text": [
      "USA       1776\n",
      "Canada    1867\n",
      "Mexico    1821\n",
      "dtype: int64\n"
     ]
    }
   ],
   "source": [
    "print(myser)"
   ]
  },
  {
   "cell_type": "code",
   "execution_count": 51,
   "id": "ecb8d777-9ddb-4330-94da-3f0dfdc69e91",
   "metadata": {},
   "outputs": [
    {
     "name": "stderr",
     "output_type": "stream",
     "text": [
      "/var/folders/j4/nj07815j3q9_wz_8g3ghf5r40000gn/T/ipykernel_40841/393088994.py:1: FutureWarning: Series.__getitem__ treating keys as positions is deprecated. In a future version, integer keys will always be treated as labels (consistent with DataFrame behavior). To access a value by position, use `ser.iloc[pos]`\n",
      "  myser[0] # numeric index.  \".iloc[position]\" can be also used!\n"
     ]
    },
    {
     "data": {
      "text/plain": [
       "1776"
      ]
     },
     "execution_count": 51,
     "metadata": {},
     "output_type": "execute_result"
    }
   ],
   "source": [
    "myser[0] # numeric index.  \".iloc[position]\" can be also used!"
   ]
  },
  {
   "cell_type": "code",
   "execution_count": 30,
   "id": "5611c2d7-095e-47a0-9235-c48f6b60cb85",
   "metadata": {},
   "outputs": [
    {
     "data": {
      "text/plain": [
       "1776"
      ]
     },
     "execution_count": 30,
     "metadata": {},
     "output_type": "execute_result"
    }
   ],
   "source": [
    "myser['USA'] # labeled index"
   ]
  },
  {
   "cell_type": "code",
   "execution_count": 31,
   "id": "909be7a2-b18f-4d00-a3ac-8f17ab0b0fbe",
   "metadata": {},
   "outputs": [],
   "source": [
    "# if we write --> myser = pd.Series(mydata, myindex) --> this is the same thing. Siralama olarak zaten ayni calisir, belirtmemize gerek yok."
   ]
  },
  {
   "cell_type": "code",
   "execution_count": 32,
   "id": "41d277c0-7ff4-483a-8ae8-abdeea14af39",
   "metadata": {},
   "outputs": [],
   "source": [
    "aa = pd.Series(mydata, myindex)"
   ]
  },
  {
   "cell_type": "code",
   "execution_count": 33,
   "id": "0cf937a2-3651-4e6d-becf-4743f650749f",
   "metadata": {},
   "outputs": [
    {
     "data": {
      "text/plain": [
       "USA       1776\n",
       "Canada    1867\n",
       "Mexico    1821\n",
       "dtype: int64"
      ]
     },
     "execution_count": 33,
     "metadata": {},
     "output_type": "execute_result"
    }
   ],
   "source": [
    "aa"
   ]
  },
  {
   "cell_type": "code",
   "execution_count": 37,
   "id": "5944b3a5-efeb-4072-a1e6-b96d51dcddf0",
   "metadata": {},
   "outputs": [],
   "source": [
    "ages = {'Sam' : 5,\n",
    "     'Frank' : 10,\n",
    "     'Spike' : 7 }"
   ]
  },
  {
   "cell_type": "code",
   "execution_count": 39,
   "id": "5666ca26-7f4b-4845-ab79-adf36de4a416",
   "metadata": {},
   "outputs": [
    {
     "data": {
      "text/plain": [
       "Sam       5\n",
       "Frank    10\n",
       "Spike     7\n",
       "dtype: int64"
      ]
     },
     "execution_count": 39,
     "metadata": {},
     "output_type": "execute_result"
    }
   ],
   "source": [
    "pd.Series(ages)  # Dictionaries formatinda verielri kolayca yazdiriyor, kullanisli oluyor."
   ]
  },
  {
   "cell_type": "code",
   "execution_count": 40,
   "id": "9883b8ad-e599-4029-8832-9ab738e09950",
   "metadata": {},
   "outputs": [],
   "source": [
    "# Imaginary Sales Data for 1st and 2nd Quarters for Global Company\n",
    "q1 = {'Japan': 80, 'China': 450, 'India': 200, 'USA': 250}\n",
    "q2 = {'Brazil': 100,'China': 500, 'India': 210,'USA': 260}"
   ]
  },
  {
   "cell_type": "code",
   "execution_count": 41,
   "id": "0e2bbf5b-5f6a-4f0a-b22a-0e43b77a4d3a",
   "metadata": {},
   "outputs": [],
   "source": [
    "sales_q1 = pd.Series(q1)"
   ]
  },
  {
   "cell_type": "code",
   "execution_count": 42,
   "id": "8151f719-2c3c-472d-800d-a3801dda345c",
   "metadata": {},
   "outputs": [],
   "source": [
    "sales_q2 = pd.Series(q2)"
   ]
  },
  {
   "cell_type": "code",
   "execution_count": 43,
   "id": "e14cfa32-8e79-4e70-8ead-c9c28c7f2987",
   "metadata": {},
   "outputs": [
    {
     "data": {
      "text/plain": [
       "Japan     80\n",
       "China    450\n",
       "India    200\n",
       "USA      250\n",
       "dtype: int64"
      ]
     },
     "execution_count": 43,
     "metadata": {},
     "output_type": "execute_result"
    }
   ],
   "source": [
    "sales_q1"
   ]
  },
  {
   "cell_type": "code",
   "execution_count": 44,
   "id": "5b28293f-567c-4dad-bf4d-dff5b3a97b9c",
   "metadata": {},
   "outputs": [
    {
     "data": {
      "text/plain": [
       "Brazil    100\n",
       "China     500\n",
       "India     210\n",
       "USA       260\n",
       "dtype: int64"
      ]
     },
     "execution_count": 44,
     "metadata": {},
     "output_type": "execute_result"
    }
   ],
   "source": [
    "sales_q2"
   ]
  },
  {
   "cell_type": "code",
   "execution_count": 48,
   "id": "6052d940-1ef3-472f-90c5-4b6420c0b254",
   "metadata": {},
   "outputs": [
    {
     "name": "stderr",
     "output_type": "stream",
     "text": [
      "/var/folders/j4/nj07815j3q9_wz_8g3ghf5r40000gn/T/ipykernel_40841/92651501.py:1: FutureWarning: Series.__getitem__ treating keys as positions is deprecated. In a future version, integer keys will always be treated as labels (consistent with DataFrame behavior). To access a value by position, use `ser.iloc[pos]`\n",
      "  sales_q1[0]\n"
     ]
    },
    {
     "data": {
      "text/plain": [
       "80"
      ]
     },
     "execution_count": 48,
     "metadata": {},
     "output_type": "execute_result"
    }
   ],
   "source": [
    "sales_q1[0]"
   ]
  },
  {
   "cell_type": "code",
   "execution_count": 52,
   "id": "0708e94a-85e2-45d9-aa46-5541c1b2f914",
   "metadata": {},
   "outputs": [
    {
     "data": {
      "text/plain": [
       "80"
      ]
     },
     "execution_count": 52,
     "metadata": {},
     "output_type": "execute_result"
    }
   ],
   "source": [
    "sales_q1['Japan'] # Our cods are more readable if we use labeled index. \n",
    "                  # Python is case sensitive and no extra spaces should be left!"
   ]
  },
  {
   "cell_type": "code",
   "execution_count": 55,
   "id": "6eb65812-ab28-41af-a6f7-a79d4fffae6c",
   "metadata": {},
   "outputs": [
    {
     "data": {
      "text/plain": [
       "Index(['Japan', 'China', 'India', 'USA'], dtype='object')"
      ]
     },
     "execution_count": 55,
     "metadata": {},
     "output_type": "execute_result"
    }
   ],
   "source": [
    "sales_q1.keys() # Our index obejcts are in these order, as we see."
   ]
  },
  {
   "cell_type": "code",
   "execution_count": 56,
   "id": "bd3b306a-6ce8-4cb7-9707-8f9b8ef35dfc",
   "metadata": {},
   "outputs": [
    {
     "data": {
      "text/plain": [
       "[1, 2, 1, 2]"
      ]
     },
     "execution_count": 56,
     "metadata": {},
     "output_type": "execute_result"
    }
   ],
   "source": [
    "[1, 2] * 2"
   ]
  },
  {
   "cell_type": "code",
   "execution_count": 57,
   "id": "d48bee3c-34cb-4e2e-94fc-26ba7ce8475a",
   "metadata": {},
   "outputs": [
    {
     "data": {
      "text/plain": [
       "array([2, 4])"
      ]
     },
     "execution_count": 57,
     "metadata": {},
     "output_type": "execute_result"
    }
   ],
   "source": [
    "np.array([1, 2]) * 2 # The List is broadcasted."
   ]
  },
  {
   "cell_type": "code",
   "execution_count": 59,
   "id": "6220f9dc-4f1f-4a62-899d-cbe09848cec8",
   "metadata": {},
   "outputs": [
    {
     "data": {
      "text/plain": [
       "Japan    160\n",
       "China    900\n",
       "India    400\n",
       "USA      500\n",
       "dtype: int64"
      ]
     },
     "execution_count": 59,
     "metadata": {},
     "output_type": "execute_result"
    }
   ],
   "source": [
    "# Pandas Series are built off Numpy arrays. That's why :\n",
    "\n",
    "sales_q1 * 2"
   ]
  },
  {
   "cell_type": "code",
   "execution_count": 60,
   "id": "4eb958a4-9d66-4b3b-b5ea-8a7311d1783f",
   "metadata": {},
   "outputs": [
    {
     "data": {
      "text/plain": [
       "Japan     80\n",
       "China    450\n",
       "India    200\n",
       "USA      250\n",
       "dtype: int64"
      ]
     },
     "execution_count": 60,
     "metadata": {},
     "output_type": "execute_result"
    }
   ],
   "source": [
    "sales_q1"
   ]
  },
  {
   "cell_type": "code",
   "execution_count": 62,
   "id": "51f89f01-eea6-4501-af7c-057e3530c9c0",
   "metadata": {},
   "outputs": [
    {
     "data": {
      "text/plain": [
       "Brazil    100\n",
       "China     500\n",
       "India     210\n",
       "USA       260\n",
       "dtype: int64"
      ]
     },
     "execution_count": 62,
     "metadata": {},
     "output_type": "execute_result"
    }
   ],
   "source": [
    "sales_q2"
   ]
  },
  {
   "cell_type": "code",
   "execution_count": 64,
   "id": "e76efa81-ce84-45bd-924a-a6b16c708a46",
   "metadata": {},
   "outputs": [
    {
     "data": {
      "text/plain": [
       "Brazil      NaN\n",
       "China     950.0\n",
       "India     410.0\n",
       "Japan       NaN\n",
       "USA       510.0\n",
       "dtype: float64"
      ]
     },
     "execution_count": 64,
     "metadata": {},
     "output_type": "execute_result"
    }
   ],
   "source": [
    "sales_q1 + sales_q2  # Pandas iki seride de olan verileri otomatik olarak toplayacak kadar akillidir ama sadece bir serideki \n",
    "                     # anahtar verileri ne yapcagini bilemeyecek kadar salaktir. Bu yüzden sadece Nan yazdirir."
   ]
  },
  {
   "cell_type": "code",
   "execution_count": 69,
   "id": "fa14f6ad-cab0-4042-a036-b7d5ec2b549a",
   "metadata": {},
   "outputs": [
    {
     "data": {
      "text/plain": [
       "Brazil    100.0\n",
       "China     950.0\n",
       "India     410.0\n",
       "Japan      80.0\n",
       "USA       510.0\n",
       "dtype: float64"
      ]
     },
     "execution_count": 69,
     "metadata": {},
     "output_type": "execute_result"
    }
   ],
   "source": [
    "first_half = sales_q1.add(sales_q2, fill_value = 0) # Shift tab ile parantez icerisindeki verilere neler yazilabilecegini ve hangi sira ile \n",
    "# yazildigini görebiliriz. fill_value = NaN yerine 0 yapariz ve istedigimiz verileri kendi degerlerinde yazdirabilir.\n",
    "first_half"
   ]
  },
  {
   "cell_type": "code",
   "execution_count": 67,
   "id": "ddb35e8b-9d8f-416f-b70a-288671b2ff14",
   "metadata": {},
   "outputs": [
    {
     "data": {
      "text/plain": [
       "dtype('int64')"
      ]
     },
     "execution_count": 67,
     "metadata": {},
     "output_type": "execute_result"
    }
   ],
   "source": [
    "sales_q1.dtype"
   ]
  },
  {
   "cell_type": "code",
   "execution_count": 72,
   "id": "df4fd348-ba40-455a-9bb9-375520d1c6da",
   "metadata": {},
   "outputs": [
    {
     "data": {
      "text/plain": [
       "dtype('float64')"
      ]
     },
     "execution_count": 72,
     "metadata": {},
     "output_type": "execute_result"
    }
   ],
   "source": [
    "first_half.dtype   # data verilerinin tipleri görüldügü gibi degisiyor. Ne istenirse ona göre kullanilabilir."
   ]
  },
  {
   "cell_type": "code",
   "execution_count": 73,
   "id": "9583baa2-58d3-4971-812f-ac7487e5aa82",
   "metadata": {},
   "outputs": [],
   "source": [
    "# pd.Series ve shift tab ile hangi sira ile hangi bilgileri yazabildigirmizi görebiliriz."
   ]
  },
  {
   "cell_type": "code",
   "execution_count": null,
   "id": "c26748c3-4866-4588-8930-021689b71f8d",
   "metadata": {},
   "outputs": [],
   "source": []
  }
 ],
 "metadata": {
  "kernelspec": {
   "display_name": "Python 3 (ipykernel)",
   "language": "python",
   "name": "python3"
  },
  "language_info": {
   "codemirror_mode": {
    "name": "ipython",
    "version": 3
   },
   "file_extension": ".py",
   "mimetype": "text/x-python",
   "name": "python",
   "nbconvert_exporter": "python",
   "pygments_lexer": "ipython3",
   "version": "3.11.7"
  }
 },
 "nbformat": 4,
 "nbformat_minor": 5
}
